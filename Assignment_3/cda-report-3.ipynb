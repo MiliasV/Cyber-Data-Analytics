{
 "cells": [
  {
   "cell_type": "code",
   "execution_count": 7,
   "metadata": {},
   "outputs": [],
   "source": [
    "import operator\n",
    "from collections import Counter"
   ]
  },
  {
   "cell_type": "markdown",
   "metadata": {},
   "source": [
    "# Sampling Task\n",
    "\n",
    "Download\tthe\tHoneypot\tdata (34\tGB,\tbut\twe\tonly\tuse\tthe\tfirst\tIP\taddress\tvalues).\tLoad\tone\tof\tthe\t\n",
    "files\tin\tyour\tfavorite\teditor\tand\tdescribe\tin\ta\tfew\tlines\twhat\tyou\tsee.\n",
    "\n",
    "What do I see?????"
   ]
  },
  {
   "cell_type": "markdown",
   "metadata": {},
   "source": [
    "Let's now count\tthe number of distinct source IP_addresses."
   ]
  },
  {
   "cell_type": "code",
   "execution_count": 3,
   "metadata": {},
   "outputs": [
    {
     "name": "stdout",
     "output_type": "stream",
     "text": [
      "The number of distinct IP addresses is: 523443\n"
     ]
    }
   ],
   "source": [
    "# Reading the file which contains the source IP addresses\n",
    "src_ip = open(\"data/src_ip.txt\", 'r')\n",
    "\n",
    "# Transforming the file to a list\n",
    "stream_ips = [line[:-2] for line in src_ip.readlines()]\n",
    "\n",
    "# Printing the number of distinct source IP addresses\n",
    "print(\"The number of distinct IP addresses is: %s\" %len(set(stream_ips)))"
   ]
  },
  {
   "cell_type": "markdown",
   "metadata": {},
   "source": [
    "### What are the 10 most frequent IP addresses?\n",
    "\n",
    "To answer this question we used the module Counter from the package collections. Below, we calculate the frequency of each IP address, then we sort them in descending order and we print them."
   ]
  },
  {
   "cell_type": "code",
   "execution_count": 19,
   "metadata": {},
   "outputs": [
    {
     "name": "stdout",
     "output_type": "stream",
     "text": [
      "('115.177.11.21', 294690)\n",
      "('115.176.182.19', 259241)\n",
      "('192.3.106.4', 66572)\n",
      "('191.96.249.18', 51251)\n",
      "('104.192.0.2', 26348)\n",
      "('198.204.234.2', 22229)\n",
      "('185.93.185.1', 5157)\n",
      "('198.204.234.3', 5049)\n",
      "('115.29.251.11', 3812)\n",
      "('104.192.0.1', 3701)\n"
     ]
    }
   ],
   "source": [
    "# count the frequency of each IP address\n",
    "freq = Counter(stream_ips)\n",
    "\n",
    "# Sort them according to their value to find the 13 most frequent ones\n",
    "sorted_el = sorted(freq.items(), key=operator.itemgetter(1), reverse = True)\n",
    "\n",
    "# Print the 10 most frequent IP addresses\n",
    "for i in range(10):\n",
    "    print sorted_el[i]"
   ]
  },
  {
   "cell_type": "markdown",
   "metadata": {},
   "source": [
    "### Write code\tfor\tthe\tFREQUENT\talgorithm,\tuse\tit\tto\tcount\tthe\tamounts\tin\tone\tpass\n",
    "\n",
    "The implementation of the FREQUENT (Misra - Gries) algorithm is presented below.\n",
    "\n",
    "### What\tare\tthe\t10\tmost\tfrequent\tIP-addresses\tand\ttheir\tfrequencies?\n",
    "To answer this question we ran the FREQUENT algorithm with a value of k equal to a very large number. The reason that we have to pick a large number for k is that since we want to count the frequency of the elements, and not the elements whose frequency exceeds the 1/k fraction of the total count.\n",
    "\n",
    "We sorted the results of the FREQUENT algorithm. The 10 most frequent IPs of our dataset are presented below in descending order.\n",
    "\n",
    "Notice that the second number in the resulted tuples is not the actual frequency of each IP (which was found before) but the counted value from the FREQUENT algorithm."
   ]
  },
  {
   "cell_type": "code",
   "execution_count": 24,
   "metadata": {
    "collapsed": true
   },
   "outputs": [],
   "source": [
    "# implementation of FREQUENT (Misra - Gries) algorithm\n",
    "def frequent(stream, k):\n",
    "    freqD = {}\n",
    "    for value in stream:\n",
    "        if value in freqD:\n",
    "            freqD[value]+=1\n",
    "\n",
    "        elif len(freqD) < k-1:\n",
    "            freqD[value] = 1\n",
    "\n",
    "        else:\n",
    "            for existing_value in freqD:\n",
    "                freqD[existing_value]-=1\n",
    "            freqD = {x: y for x, y in freqD.items() if y != 0}\n",
    "        #print(freqD) #(show step-by-step)\n",
    "    return freqD"
   ]
  },
  {
   "cell_type": "code",
   "execution_count": 28,
   "metadata": {},
   "outputs": [
    {
     "name": "stdout",
     "output_type": "stream",
     "text": [
      "The 10 most frequent IP addresses are:\n",
      "('115.177.11.21', 294690)\n",
      "('115.176.182.19', 259241)\n",
      "('192.3.106.4', 66572)\n",
      "('191.96.249.18', 51251)\n",
      "('104.192.0.2', 26348)\n",
      "('198.204.234.2', 22229)\n",
      "('185.93.185.1', 5157)\n",
      "('198.204.234.3', 5049)\n",
      "('115.29.251.11', 3812)\n",
      "('104.192.0.1', 3701)\n"
     ]
    }
   ],
   "source": [
    "# Running the FREQUENT algorithm\n",
    "\n",
    "# initialize fraction\n",
    "k = 1000000\n",
    "\n",
    "# Find elements whose frequency exceeds 1/k fraction of the total count\n",
    "elements = frequent(stream_ips, k)\n",
    "\n",
    "# Sort them according to their value to find the 13 most frequent ones\n",
    "sorted_freq = sorted(elements.items(), key=operator.itemgetter(1), reverse = True)\n",
    "\n",
    "print(\"The 10 most frequent IP addresses are:\")\n",
    "\n",
    "for i in range(10):\n",
    "    print(sorted_freq[i])\n",
    "    "
   ]
  },
  {
   "cell_type": "markdown",
   "metadata": {
    "collapsed": true
   },
   "source": [
    "As could be observed from the above results by using a very large value for k we get the exact same results as when we calculated the frequencies in the normal way.\n",
    "\n",
    "This is reasonable, as the condition of the FREQUENT algorithm \"elif len(freqD) < k-1:\" is always true. Thus, our algorithm basically just keeps a dictionary with the IPs  as keys, and increases their values as it processes the IP stream.\n",
    "\n",
    "### Run\tFREQUENT\tusing\treservoirs\tof\tsize\t10,\t100,\tand\t1000.\tWhat\tare\tthe\t10\tmost\tfrequent\tIP-addresses\tand\ttheir\tfrequencies?''\n",
    "\n",
    "The code below runs the FREQUENT algorithm with k equal to 10, 100 and 1000."
   ]
  },
  {
   "cell_type": "code",
   "execution_count": 39,
   "metadata": {},
   "outputs": [
    {
     "name": "stdout",
     "output_type": "stream",
     "text": [
      "\n",
      "\n",
      "The 7 most frequent IP addresses with k = 10 are:\n",
      "\n",
      "(('115.176.182.19', 67257), ('115.177.11.21', 294690))\n",
      "(('191.96.249.18', 339), ('115.176.182.19', 259241))\n",
      "(('187.23.203.25', 1), ('192.3.106.4', 66572))\n",
      "(('82.178.61.9', 1), ('191.96.249.18', 51251))\n",
      "(('114.32.130.1', 1), ('104.192.0.2', 26348))\n",
      "(('87.96.167.23', 1), ('198.204.234.2', 22229))\n",
      "(('187.199.79.1', 1), ('185.93.185.1', 5157))\n",
      "\n",
      "\n",
      "The 10 most frequent IP addresses with k = 100 are:\n",
      "\n",
      "(('115.177.11.21', 266461), ('115.177.11.21', 294690))\n",
      "(('115.176.182.19', 242456), ('115.176.182.19', 259241))\n",
      "(('192.3.106.4', 43770), ('192.3.106.4', 66572))\n",
      "(('191.96.249.18', 37642), ('191.96.249.18', 51251))\n",
      "(('185.93.185.1', 694), ('104.192.0.2', 26348))\n",
      "(('187.199.79.1', 2), ('198.204.234.2', 22229))\n",
      "(('190.66.183.4', 2), ('185.93.185.1', 5157))\n",
      "(('86.105.50.21', 2), ('198.204.234.3', 5049))\n",
      "(('2.27.193.10', 2), ('115.29.251.11', 3812))\n",
      "(('188.226.188.7', 1), ('104.192.0.1', 3701))\n",
      "\n",
      "\n",
      "The 10 most frequent IP addresses with k = 1000 are:\n",
      "\n",
      "(('115.177.11.21', 291997), ('115.177.11.21', 294690))\n",
      "(('115.176.182.19', 257623), ('115.176.182.19', 259241))\n",
      "(('192.3.106.4', 64129), ('192.3.106.4', 66572))\n",
      "(('191.96.249.18', 49633), ('191.96.249.18', 51251))\n",
      "(('104.192.0.2', 23655), ('104.192.0.2', 26348))\n",
      "(('198.204.234.2', 19640), ('198.204.234.2', 22229))\n",
      "(('185.93.185.1', 4431), ('185.93.185.1', 5157))\n",
      "(('198.204.234.3', 2655), ('198.204.234.3', 5049))\n",
      "(('115.29.251.11', 1444), ('115.29.251.11', 3812))\n",
      "(('104.192.0.1', 1306), ('104.192.0.1', 3701))\n"
     ]
    }
   ],
   "source": [
    "# Running the FREQUENT algorithm\n",
    "\n",
    "# initialize fraction\n",
    "for k in [10, 100, 1000]:\n",
    "    \n",
    "    print(\"\\n\")\n",
    "    # Find elements whose frequency exceeds 1/k fraction of the total count\n",
    "    elements = frequent(stream_ips, k)\n",
    "\n",
    "    # Sort them according to their value to find the 13 most frequent ones\n",
    "    sorted_freq = sorted(elements.items(), key=operator.itemgetter(1), reverse = True)\n",
    "\n",
    "        \n",
    "    if len(sorted_freq)<10:\n",
    "        num = len(sorted_freq)\n",
    "    else:\n",
    "        num = 10\n",
    "        \n",
    "    print(\"The %s most frequent IP addresses with k = %s are:\\n\" %(num,k))\n",
    "\n",
    "    for i in range(num):\n",
    "        print(sorted_freq[i],sorted_el[i])\n",
    "        \n",
    "        # sorted_el contains the real frequencies of the IPs.\n",
    "        # print it  as well, if you want to see the differences in the same page.\n",
    "        #print(sorted_el[i])\n",
    "    "
   ]
  },
  {
   "cell_type": "markdown",
   "metadata": {},
   "source": [
    "As expected, the results are not the same as before. \n",
    "\n",
    "#### k = 10\n",
    "With k = 10 the algorithm does not even return 10 values as it is looking for the IPs whose frequency exceeds the fraction of 10% over the total count of IPs. Apparently, only 7 IPs fulfill this requirement. In addition, only two of those IPs actually exist in the true 7 most frequent IPs. Those results are reasonable, as there are various IPs which have a frequency 1 according to the FREQUENT algorithm, and the sorting of them by value does not end up with the correct order.\n",
    "\n",
    "#### k = 100\n"
   ]
  },
  {
   "cell_type": "code",
   "execution_count": null,
   "metadata": {
    "collapsed": true
   },
   "outputs": [],
   "source": []
  }
 ],
 "metadata": {
  "kernelspec": {
   "display_name": "Python 2",
   "language": "python",
   "name": "python2"
  },
  "language_info": {
   "codemirror_mode": {
    "name": "ipython",
    "version": 2
   },
   "file_extension": ".py",
   "mimetype": "text/x-python",
   "name": "python",
   "nbconvert_exporter": "python",
   "pygments_lexer": "ipython2",
   "version": "2.7.12"
  }
 },
 "nbformat": 4,
 "nbformat_minor": 2
}
