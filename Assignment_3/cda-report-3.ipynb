{
 "cells": [
  {
   "cell_type": "code",
   "execution_count": 8,
   "metadata": {
    "collapsed": true
   },
   "outputs": [],
   "source": [
    "import operator"
   ]
  },
  {
   "cell_type": "markdown",
   "metadata": {},
   "source": [
    "# Sampling Task\n",
    "\n",
    "Download\tthe\tHoneypot\tdata (34\tGB,\tbut\twe\tonly\tuse\tthe\tfirst\tIP\taddress\tvalues).\tLoad\tone\tof\tthe\t\n",
    "files\tin\tyour\tfavorite\teditor\tand\tdescribe\tin\ta\tfew\tlines\twhat\tyou\tsee.\n",
    "\n",
    "What do I see?????"
   ]
  },
  {
   "cell_type": "markdown",
   "metadata": {},
   "source": [
    "Let's now count\tthe\tnumber\tof\tdistinct\tsource\tIP_addresses and find what are the most 10 frequent IP values."
   ]
  },
  {
   "cell_type": "code",
   "execution_count": 3,
   "metadata": {},
   "outputs": [
    {
     "name": "stdout",
     "output_type": "stream",
     "text": [
      "The number of distinct IP addresses is 523443\n"
     ]
    }
   ],
   "source": [
    "# Teading the file which contains the source IP addresses\n",
    "src_ip = open(\"data/src_ip.txt\", 'r')\n",
    "\n",
    "# Transforming the file to a list\n",
    "stream_ips = [line[:-2] for line in src_ip.readlines()]\n",
    "\n",
    "# Printing the number of distinct source IP addresses\n",
    "print(\"The number of distinct IP addresses is: %s\" %len(set(stream_ips)))"
   ]
  },
  {
   "cell_type": "markdown",
   "metadata": {},
   "source": [
    "Next, we implement the FREQUENT (Misra - Gries) algorithm."
   ]
  },
  {
   "cell_type": "code",
   "execution_count": 5,
   "metadata": {
    "collapsed": true
   },
   "outputs": [],
   "source": [
    "# implementation of FREQUENT (Misra - Gries) algorithm\n",
    "def frequent(stream, k):\n",
    "    freqD = {}\n",
    "    for value in stream:\n",
    "        if value in freqD:\n",
    "            freqD[value]+=1\n",
    "\n",
    "        elif len(freqD) < k-1:\n",
    "            freqD[value] = 1\n",
    "\n",
    "        else:\n",
    "            for existing_value in freqD:\n",
    "                freqD[existing_value]-=1\n",
    "            freqD = {x: y for x, y in freqD.items() if y != 0}\n",
    "        #print(freqD) #(show step-by-step)\n",
    "    return freqD"
   ]
  },
  {
   "cell_type": "markdown",
   "metadata": {},
   "source": [
    "### What are the 10 most frequent IP addresses?\n",
    "To answer this question we ran the FREQUENT algorithm with a value of k equal to 31. We selected this value because after experimentation, we realized that there are 13 IPs which occur 1/31 times in our dataset.\n",
    "\n",
    "We sort the results of the FREQUENT algorithm and then we present the 13 most frequent IPs of our dataset in descending order.\n",
    "\n",
    "Notice that the second number in the resulted tuples is not the actual frequency of each IP, but the counted value from the FREQUENT algorithm.\n"
   ]
  },
  {
   "cell_type": "code",
   "execution_count": 16,
   "metadata": {},
   "outputs": [
    {
     "name": "stdout",
     "output_type": "stream",
     "text": [
      "The 13 most frequent IP addresses are:\n",
      "('115.176.182.19', 201709)\n",
      "('115.177.11.21', 197981)\n",
      "('191.96.249.18', 16331)\n",
      "('187.199.79.1', 2)\n",
      "('187.23.203.25', 1)\n",
      "('119.86.69.10', 1)\n",
      "('82.178.61.9', 1)\n",
      "('115.108.40.1', 1)\n",
      "('222.105.38.6', 1)\n",
      "('114.32.130.1', 1)\n",
      "('43.248.32.9', 1)\n",
      "('87.96.167.23', 1)\n",
      "('14.182.80.23', 1)\n"
     ]
    }
   ],
   "source": [
    "# initialize fraction\n",
    "k = 31\n",
    "\n",
    "# Find elements whose frequency exceeds 1/k fraction of the total count\n",
    "elements = frequent(stream_ips, k)\n",
    "\n",
    "# Sort them according to their value to find the 13 most frequent ones\n",
    "sorted_el = sorted(elements.items(), key=operator.itemgetter(1), reverse = True)\n",
    "\n",
    "print(\"The 13 most frequent IP addresses are:\")\n",
    "\n",
    "for i in range(13):\n",
    "    print(sorted_el[i])\n",
    "\n",
    "    "
   ]
  },
  {
   "cell_type": "code",
   "execution_count": null,
   "metadata": {
    "collapsed": true
   },
   "outputs": [],
   "source": []
  }
 ],
 "metadata": {
  "kernelspec": {
   "display_name": "Python 2",
   "language": "python",
   "name": "python2"
  },
  "language_info": {
   "codemirror_mode": {
    "name": "ipython",
    "version": 2
   },
   "file_extension": ".py",
   "mimetype": "text/x-python",
   "name": "python",
   "nbconvert_exporter": "python",
   "pygments_lexer": "ipython2",
   "version": "2.7.12"
  }
 },
 "nbformat": 4,
 "nbformat_minor": 2
}
