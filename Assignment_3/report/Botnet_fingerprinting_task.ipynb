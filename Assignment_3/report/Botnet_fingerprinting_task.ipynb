{
 "cells": [
  {
   "cell_type": "code",
   "execution_count": 22,
   "metadata": {
    "collapsed": true
   },
   "outputs": [],
   "source": [
    "import os\n",
    "import pandas as pd\n",
    "import matplotlib.pyplot as plt\n",
    "from sklearn.cluster import KMeans\n",
    "from sklearn.metrics import confusion_matrix\n",
    "from collections import Counter"
   ]
  },
  {
   "cell_type": "markdown",
   "metadata": {},
   "source": [
    "## Pre-processing"
   ]
  },
  {
   "cell_type": "markdown",
   "metadata": {},
   "source": [
    "This function reads from file and performs pre-precessing steps"
   ]
  },
  {
   "cell_type": "code",
   "execution_count": 23,
   "metadata": {
    "collapsed": true
   },
   "outputs": [],
   "source": [
    "def read_from_file(scenario):\n",
    "    print(\"Reading from file. Scenario: %s\" % scenario)\n",
    "\n",
    "    # Get the path of the file\n",
    "    dir_path = os.path.join(\"..\", \"data\", \"CTU-13-Dataset\", str(scenario))\n",
    "    file_name = filter(lambda x: x.endswith(\".binetflow\"), os.listdir(dir_path))[0]\n",
    "    file_path = os.path.join(dir_path, file_name)\n",
    "\n",
    "    # Read the csv file in a pandas dataframe\n",
    "    # Convert label: \"flow=From-Botnet\" to 1, label: \"flow=From-Normal\" to 0 and the rest to 2\n",
    "    converters = {\"Label\": lambda x: 1 if x.startswith(\"flow=From-Botnet\") else (0 if x.startswith(\"flow=From-Normal\") else 2)}\n",
    "    df = pd.read_csv(file_path, skip_blank_lines=True, delimiter=\",\", converters=converters)\n",
    "\n",
    "    # remove the background flows\n",
    "    df = df[df.Label != 2]\n",
    "\n",
    "    # Remove the columns which will not be used the clustering\n",
    "    # sTos, dTos (Nan and 0 values)\n",
    "    df.drop([\"sTos\", \"dTos\", \"State\", \"DstAddr\", \"Sport\", \"Dport\"], 1, inplace=True)\n",
    "\n",
    "    print(\"\\tDone!!\")\n",
    "    return df"
   ]
  },
  {
   "cell_type": "markdown",
   "metadata": {},
   "source": [
    "This function reads from file for each of the given scenarios and converts it to one pandas dataframe"
   ]
  },
  {
   "cell_type": "code",
   "execution_count": 24,
   "metadata": {
    "collapsed": true
   },
   "outputs": [],
   "source": [
    "def read_scenarios(scenarios):\n",
    "    result = []\n",
    "    for scenario in scenarios:\n",
    "        result.append(read_from_file(scenario))\n",
    "    df = pd.concat(result)\n",
    "\n",
    "    # Create dummy types\n",
    "    df = pd.get_dummies(df, columns=[\"Proto\", \"Dir\"])\n",
    "\n",
    "    # Drop rows that contain null values for at-least one of the rows\n",
    "    df.dropna(inplace=True, how=\"any\")\n",
    "    return df"
   ]
  },
  {
   "cell_type": "markdown",
   "metadata": {},
   "source": [
    "## Get optimal number of clusters"
   ]
  },
  {
   "cell_type": "markdown",
   "metadata": {},
   "source": [
    "We use the elbow method to find the optimal amount of clusters"
   ]
  },
  {
   "cell_type": "code",
   "execution_count": 25,
   "metadata": {
    "collapsed": true
   },
   "outputs": [],
   "source": [
    "def elbow_method(df):\n",
    "    # convert to numpy array\n",
    "    used_columns = list(df)\n",
    "    used_columns.remove(\"StartTime\")\n",
    "    used_columns.remove(\"SrcAddr\")\n",
    "    used_columns.remove(\"Label\")\n",
    "    numpy_array = df.as_matrix(columns=used_columns)\n",
    "\n",
    "    elbow = []\n",
    "    for k in range(2, 20):\n",
    "        k_means = KMeans(n_clusters=k).fit(numpy_array)\n",
    "        elbow.append(k_means.inertia_)\n",
    "\n",
    "    plt.plot(range(2,20), elbow, \"-ro\")\n",
    "    plt.grid(True)\n",
    "    plt.show()"
   ]
  },
  {
   "cell_type": "code",
   "execution_count": 26,
   "metadata": {
    "collapsed": false
   },
   "outputs": [
    {
     "name": "stdout",
     "output_type": "stream",
     "text": [
      "Reading from file. Scenario: 11\n",
      "\tDone!!\n",
      "Reading from file. Scenario: 12\n",
      "\tDone!!\n"
     ]
    }
   ],
   "source": [
    "scenarios = [11, 12]\n",
    "df = read_scenarios(scenarios)"
   ]
  },
  {
   "cell_type": "code",
   "execution_count": 27,
   "metadata": {
    "collapsed": false
   },
   "outputs": [
    {
     "data": {
      "image/png": "[encoded data removed]",
      "text/plain": [
       "<matplotlib.figure.Figure at 0x13cc1f98>"
      ]
     },
     "metadata": {},
     "output_type": "display_data"
    }
   ],
   "source": [
    "elbow_method(df)"
   ]
  },
  {
   "cell_type": "markdown",
   "metadata": {},
   "source": [
    "The above diagram suggests to use 6 as a number of clusters."
   ]
  },
  {
   "cell_type": "markdown",
   "metadata": {},
   "source": [
    "## Cluster"
   ]
  },
  {
   "cell_type": "markdown",
   "metadata": {},
   "source": [
    "This function converts each row of the given df to a cluster label.\n",
    "We have used k-means with k=6 for clustering."
   ]
  },
  {
   "cell_type": "code",
   "execution_count": 28,
   "metadata": {
    "collapsed": true
   },
   "outputs": [],
   "source": [
    "def discretize(df):\n",
    "    # remove unneeded columns\n",
    "    # convert to numpy array\n",
    "    columns_used = list(set(list(df)) - {\"StartTime\", \"SrcAddr\", \"Label\"})\n",
    "    num_array = df.as_matrix(columns=columns_used)\n",
    "\n",
    "    kmeans_labels = KMeans(n_clusters=6).fit(num_array)\n",
    "    result = pd.DataFrame()\n",
    "    result[\"Label\"] = df[\"Label\"]\n",
    "    result[\"SrcAddr\"] = df[\"SrcAddr\"]\n",
    "    result[\"ClusterLabel\"] = kmeans_labels.labels_\n",
    "\n",
    "    return result"
   ]
  },
  {
   "cell_type": "markdown",
   "metadata": {},
   "source": [
    "## Bi-Gram model"
   ]
  },
  {
   "cell_type": "markdown",
   "metadata": {},
   "source": [
    "The sequential data of an attack host will be used to build a bi-gram sliding window model."
   ]
  },
  {
   "cell_type": "code",
   "execution_count": 29,
   "metadata": {
    "collapsed": true
   },
   "outputs": [],
   "source": [
    "n = 2\n",
    "\n",
    "def get_sliding_window(sequence):\n",
    "    i = 0\n",
    "    result = []\n",
    "    while i <= len(sequence) - n:\n",
    "        result.append(tuple(sequence[i:i+n]))\n",
    "        i += 1\n",
    "    return result\n",
    "\n",
    "\n",
    "def get_ngram_model(sequence):\n",
    "    records = get_sliding_window(sequence)\n",
    "    unique_records = set(records)\n",
    "    result = {}\n",
    "    for record in unique_records:\n",
    "        result[record] = records.count(record)/float(len(records))\n",
    "    return result\n",
    "\n",
    "\n",
    "def get_probability(ngram_model, sequence):\n",
    "    records = get_sliding_window(sequence)\n",
    "    p = 0.0\n",
    "    for record in records:\n",
    "        if record in ngram_model.keys():\n",
    "            p += ngram_model[record]\n",
    "    normalized_p = p/len(records)\n",
    "    return normalized_p\n",
    "\n",
    "def classify(ngram_model, sequence, threshold):\n",
    "    p = get_probability(ngram_model, sequence)\n",
    "    if p > threshold:\n",
    "        return 1\n",
    "    else:\n",
    "        return 0"
   ]
  },
  {
   "cell_type": "markdown",
   "metadata": {},
   "source": [
    "## Tune threshold"
   ]
  },
  {
   "cell_type": "markdown",
   "metadata": {},
   "source": [
    "The test is done as following:\n",
    "\n",
    "A Bi-gram model is learned for each infected host.\n",
    "\n",
    "Subsequently, this model is used to classify other infected and not infected hosts."
   ]
  },
  {
   "cell_type": "code",
   "execution_count": 30,
   "metadata": {
    "collapsed": true
   },
   "outputs": [],
   "source": [
    "# This function splits the df in groups of infected and uninfected hosts\n",
    "def split_data(df):\n",
    "    def groupby_host(df):\n",
    "        df_groupby_by_src = df.groupby(\"SrcAddr\")\n",
    "        result = []\n",
    "        for src in df_groupby_by_src.groups.keys():\n",
    "            df_groupby_by_src.get_group(src)\n",
    "            result.append(df_groupby_by_src.get_group(src)[\"ClusterLabel\"].values.tolist())\n",
    "        return result\n",
    "\n",
    "    df_group_by_label = df.groupby(\"Label\")\n",
    "    result = {}\n",
    "    result[0] = groupby_host(df_group_by_label.get_group(0))\n",
    "    result[1] = groupby_host(df_group_by_label.get_group(1))\n",
    "    return result"
   ]
  },
  {
   "cell_type": "code",
   "execution_count": 31,
   "metadata": {
    "collapsed": true
   },
   "outputs": [],
   "source": [
    "def plot_hist(data, title):\n",
    "    plt.hist(data, bins=\"auto\")\n",
    "    plt.title(title)\n",
    "    plt.ylabel('Probability')\n",
    "    plt.show()\n",
    "\n",
    "def plot_probabilities(df):\n",
    "    new_df = discretize(df)\n",
    "    split = split_data(new_df)\n",
    "\n",
    "    num_attack_hosts = len(split[1])\n",
    "    num_normal_hosts = len(split[0])\n",
    "\n",
    "    attact_p = []\n",
    "    normal_p = []\n",
    "    for i in range(num_attack_hosts):\n",
    "        ngram_model = get_ngram_model(split[1][i])\n",
    "        for j in range(i) + range(i+1, num_attack_hosts):\n",
    "            attact_p.append(get_probability(ngram_model, split[1][j]))\n",
    "\n",
    "        for k in range(num_normal_hosts):\n",
    "            normal_p.append(get_probability(ngram_model, split[0][k]))\n",
    "\n",
    "    plot_hist(attact_p, \"Attack distribution\")\n",
    "    plot_hist(normal_p, \"Normal distribution\")"
   ]
  },
  {
   "cell_type": "markdown",
   "metadata": {},
   "source": [
    "Let's view the distribution of the probabilities for infected and not infected host. By doing this we can set a good threshold for classification."
   ]
  },
  {
   "cell_type": "code",
   "execution_count": 32,
   "metadata": {
    "collapsed": false
   },
   "outputs": [
    {
     "data": {
      "image/png": "[encoded data removed]",
      "text/plain": [
       "<matplotlib.figure.Figure at 0x13d7f390>"
      ]
     },
     "metadata": {},
     "output_type": "display_data"
    },
    {
     "data": {
      "image/png": "[encoded data removed]",
      "text/plain": [
       "<matplotlib.figure.Figure at 0x14d6c4e0>"
      ]
     },
     "metadata": {},
     "output_type": "display_data"
    }
   ],
   "source": [
    "plot_probabilities(df)"
   ]
  },
  {
   "cell_type": "markdown",
   "metadata": {},
   "source": [
    "It looks like 0.99 is a good threshold (>0.99: attack). If we put the threshold lower almost all of the normal hosts will be classified as attack. But if we put the threshold higher than 0.99 then all of the attack hosts will classified as normal. Hence 0.99 is a good tradeoff between FP and FN."
   ]
  },
  {
   "cell_type": "markdown",
   "metadata": {},
   "source": [
    "## Evaluate"
   ]
  },
  {
   "cell_type": "code",
   "execution_count": 35,
   "metadata": {
    "collapsed": true
   },
   "outputs": [],
   "source": [
    "def evaluate(threshold, df):\n",
    "    new_df = discretize(df)\n",
    "    split = split_data(new_df)\n",
    "    \n",
    "    num_attack_hosts = len(split[1])\n",
    "    num_normal_hosts = len(split[0])\n",
    "\n",
    "    predicted_labels = []\n",
    "    real_labels = []\n",
    "    for i in range(num_attack_hosts):\n",
    "        ngram_model = get_ngram_model(split[1][i])\n",
    "        for j in range(i) + range(i + 1, num_attack_hosts):\n",
    "            real_labels.append(1)\n",
    "            predicted_labels.append(classify(ngram_model, split[1][j], threshold))\n",
    "\n",
    "        for k in range(num_normal_hosts):\n",
    "            real_labels.append(0)\n",
    "            predicted_labels.append(classify(ngram_model, split[0][k], threshold))\n",
    "    return confusion_matrix(real_labels, predicted_labels)"
   ]
  },
  {
   "cell_type": "markdown",
   "metadata": {},
   "source": [
    "Let's see how the classifier with 0.99 threshold performs.\n",
    "\n",
    "For that we present the confusion matrix."
   ]
  },
  {
   "cell_type": "code",
   "execution_count": 37,
   "metadata": {
    "collapsed": false
   },
   "outputs": [
    {
     "data": {
      "text/plain": [
       "array([[27, 27],\n",
       "       [30, 42]])"
      ]
     },
     "execution_count": 37,
     "metadata": {},
     "output_type": "execute_result"
    }
   ],
   "source": [
    "print \"The \"\n",
    "evaluate(0.99, df)"
   ]
  },
  {
   "cell_type": "markdown",
   "metadata": {},
   "source": [
    "It has an accuracy of 54.8 %. As mentioned in the lectures, the classification in this context is rather hard. Thus, we believe that our results are sufficient."
   ]
  }
 ],
 "metadata": {
  "kernelspec": {
   "display_name": "Python 2",
   "language": "python",
   "name": "python2"
  },
  "language_info": {
   "codemirror_mode": {
    "name": "ipython",
    "version": 2
   },
   "file_extension": ".py",
   "mimetype": "text/x-python",
   "name": "python",
   "nbconvert_exporter": "python",
   "pygments_lexer": "ipython2",
   "version": "2.7.13"
  }
 },
 "nbformat": 4,
 "nbformat_minor": 2
}
