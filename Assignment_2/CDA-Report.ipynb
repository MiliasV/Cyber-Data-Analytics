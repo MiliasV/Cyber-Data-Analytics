{
 "cells": [
  {
   "cell_type": "markdown",
   "metadata": {},
   "source": [
    "# Importing the libraries we will need\n"
   ]
  },
  {
   "cell_type": "code",
   "execution_count": 71,
   "metadata": {
    "collapsed": true
   },
   "outputs": [],
   "source": [
    "import pandas as pd\n",
    "import os\n",
    "import matplotlib.pyplot as plt\n",
    "import numpy as np\n",
    "from sklearn.preprocessing import normalize,scale\n",
    "from sklearn.decomposition import IncrementalPCA\n",
    "from sklearn.model_selection import train_test_split\n",
    "%matplotlib inline\n"
   ]
  },
  {
   "cell_type": "markdown",
   "metadata": {},
   "source": [
    "# *Familiarization task*\n",
    "\n",
    "For the familiarization task we are going to read our datasets (by using the pandas library) and examine them.\n",
    "\n",
    "To do so, we firstly define the path that leads to our datasets."
   ]
  },
  {
   "cell_type": "code",
   "execution_count": 95,
   "metadata": {},
   "outputs": [
    {
     "name": "stdout",
     "output_type": "stream",
     "text": [
      "Path of the attack dataset: data/SWaT_Dataset_Attack_v0.csv\n",
      "Path of the normal dataset: data/SWaT_Dataset_Normal_v0.csv\n"
     ]
    }
   ],
   "source": [
    "attack_data_path = os.path.join('data', 'SWaT_Dataset_Attack_v0.csv')\n",
    "normal_data_path = os.path.join('data', 'SWaT_Dataset_Normal_v0.csv')\n",
    "\n",
    "print(\"Path of the attack dataset: %s\" %attack_data_path)\n",
    "print(\"Path of the normal dataset: %s\" %normal_data_path)\n"
   ]
  },
  {
   "cell_type": "markdown",
   "metadata": {},
   "source": [
    "# Read the data and initial pre-processing\n",
    "\n",
    "The \"read_from_file()\" function below, converts the csv into a pandas dataframe.\n",
    "The initial pre-processing that we do is:\n",
    "* skip the first line (it is empty)\n",
    "* skip blank lines \n",
    "* convertion of the labels {Normal, Attack} to {0, 1} (0 = Normal, 1 = Attack). In this step we realized that some \"Attack\" labels were written as \"A ttack\" so we labeled them as 1 too.\n",
    "\n",
    "This function returns two pandas dataframes, one for the attack dataset and another one for the normal dataset."
   ]
  },
  {
   "cell_type": "code",
   "execution_count": 96,
   "metadata": {
    "collapsed": true
   },
   "outputs": [],
   "source": [
    "def read_from_file():\n",
    "    print(\"Reading Attack and Normal dataset from file.\")\n",
    "    converters = {'Normal/Attack': lambda x: 1 if (x == \"A ttack\" or x == \"Attack\") else 0}\n",
    "\n",
    "    attack_data = pd.read_csv(attack_data_path, skip_blank_lines=True, skiprows=1, converters=converters)\n",
    "    normal_data = pd.read_csv(normal_data_path, skip_blank_lines=True, skiprows=1, converters=converters)\n",
    "    print(\"\\t\\tDone.\")\n",
    "    return attack_data, normal_data"
   ]
  },
  {
   "cell_type": "markdown",
   "metadata": {},
   "source": [
    "Now we are able to read our datasets."
   ]
  },
  {
   "cell_type": "code",
   "execution_count": 97,
   "metadata": {},
   "outputs": [
    {
     "name": "stdout",
     "output_type": "stream",
     "text": [
      "Reading Attack and Normal dataset from file.\n",
      "\t\tDone.\n"
     ]
    }
   ],
   "source": [
    "attack_data, normal_data = read_from_file()"
   ]
  },
  {
   "cell_type": "markdown",
   "metadata": {},
   "source": [
    "# Examination of our data\n",
    "Let's find out how many columns do our csv files have and if both datasets contain the same columns."
   ]
  },
  {
   "cell_type": "code",
   "execution_count": 98,
   "metadata": {},
   "outputs": [
    {
     "name": "stdout",
     "output_type": "stream",
     "text": [
      "53\n",
      "53\n",
      "True\n"
     ]
    }
   ],
   "source": [
    "\n",
    "normal_data.rename(columns = {' Timestamp':'Timestamp'}, inplace = True)\n",
    "attack_data.rename(columns = {' AIT201':'AIT201', ' MV101': 'MV101', ' P201':'P201', ' MV201': 'MV201'}, inplace = True)\n",
    "\n",
    "# Remove the whitespaces from the column names\n",
    "strip = lambda container: map(lambda element: element.strip(), container)\n",
    "attack_data.columns = strip(attack_data.columns.tolist())\n",
    "normal_data.columns = strip(normal_data.columns.tolist())\n",
    "\n",
    "print len(list(normal_data))\n",
    "print (len(list(attack_data)))\n",
    "print(list(attack_data) == list(normal_data))\n"
   ]
  },
  {
   "cell_type": "markdown",
   "metadata": {},
   "source": [
    "Thus, we have the same 53 columns in both datasets.\n",
    "\n",
    "Let's find out the names of those columns."
   ]
  },
  {
   "cell_type": "code",
   "execution_count": 99,
   "metadata": {},
   "outputs": [
    {
     "name": "stdout",
     "output_type": "stream",
     "text": [
      "['Timestamp', 'FIT101', 'LIT101', 'MV101', 'P101', 'P102', 'AIT201', 'AIT202', 'AIT203', 'FIT201', 'MV201', 'P201', 'P202', 'P203', 'P204', 'P205', 'P206', 'DPIT301', 'FIT301', 'LIT301', 'MV301', 'MV302', 'MV303', 'MV304', 'P301', 'P302', 'AIT401', 'AIT402', 'FIT401', 'LIT401', 'P401', 'P402', 'P403', 'P404', 'UV401', 'AIT501', 'AIT502', 'AIT503', 'AIT504', 'FIT501', 'FIT502', 'FIT503', 'FIT504', 'P501', 'P502', 'PIT501', 'PIT502', 'PIT503', 'FIT601', 'P601', 'P602', 'P603', 'Normal/Attack']\n"
     ]
    }
   ],
   "source": [
    "print list(attack_data)"
   ]
  },
  {
   "cell_type": "markdown",
   "metadata": {},
   "source": [
    "# Dataset\n",
    "\n",
    "As we can observe, there are not all the 53 columns about the recorded signals' values. One corresponds to 'Timestamp' and another one to 'Normal/Attack' (labels). \n",
    "\n",
    "The rest (51) are the recorded signals. In https://itrust.sutd.edu.sg/wp-content/uploads/sites/3/2015/11/Brief-Introduction-to-SWaT_181115.pdf we found the explanation of what those signals mean. \n",
    "\n",
    "In general they are divided in analog and digital signals. \n",
    "\n",
    "(From the list of the digital signals we only have P, MV, UV).\n",
    "\n",
    "## Analog\n",
    "\n",
    "![title](img/analog.png)\n",
    "\n",
    "## Digital\n",
    "\n",
    "![title](img/digital.png)\n",
    "\n",
    "Thus, let's now answer the first two questions of the assignment.\n",
    "\n",
    "##  *How\tmany\tdifferent\ttypes\tof\tsignals\tare\tthere?\tWhat\ttypes\tof\tsignals\tare\tthese?*\n",
    "\n",
    "There are 51 different types of signals which could be divided into two basic types: Analog and digital. \n",
    "\n",
    "More information is provided by the two images above.\n",
    "\n",
    "## *Are\tthe\tsignals\tcorrelated?*\n",
    "\n",
    "To find the correlation between the signals we first combined the two datasets into one.\n"
   ]
  },
  {
   "cell_type": "code",
   "execution_count": 100,
   "metadata": {
    "collapsed": true
   },
   "outputs": [],
   "source": [
    "frames = [normal_data, attack_data]\n",
    "combined = pd.concat(frames)\n",
    "\n",
    "# Remove labels\n",
    "del combined[\"Normal/Attack\"]\n"
   ]
  },
  {
   "cell_type": "markdown",
   "metadata": {},
   "source": [
    "Then, we compute the correlation matrix."
   ]
  },
  {
   "cell_type": "code",
   "execution_count": 101,
   "metadata": {},
   "outputs": [],
   "source": [
    "# compute the correlation matrix\n",
    "corr = combined.corr()"
   ]
  },
  {
   "cell_type": "markdown",
   "metadata": {},
   "source": [
    "## *Visualize these types and the presence or absence of correlation*\n"
   ]
  },
  {
   "cell_type": "code",
   "execution_count": 102,
   "metadata": {},
   "outputs": [
    {
     "data": {
      "text/plain": [
       "<matplotlib.axes._subplots.AxesSubplot at 0x7f411b7061d0>"
      ]
     },
     "execution_count": 102,
     "metadata": {},
     "output_type": "execute_result"
    },
    {
     "data": {
      "image/png": "[encoded data removed]",
      "text/plain": [
       "<matplotlib.figure.Figure at 0x7f410f6dab10>"
      ]
     },
     "metadata": {},
     "output_type": "display_data"
    }
   ],
   "source": [
    "# visualization of the correlation matrix\n",
    "import seaborn as sns\n",
    "fig, ax = plt.subplots(figsize=(10,10))         # Sample figsize in inches\n",
    "sns.heatmap(corr)#, xticklabels=corr.columns,yticklabels=corr.columns)"
   ]
  },
  {
   "cell_type": "markdown",
   "metadata": {},
   "source": [
    "The above plot suggests that there are some correlations, especially between signals of the same type.\n",
    "\n",
    "In addition, FIT (flow), PIT (pressure) and PS (pressure switch) signals seem to correlate significantly. \n",
    "\n",
    "The rest of the data do not correlate so much with each other.\n",
    "\n",
    "# *Separate the data into training and testing. Use the data until the day of the first anomaly as training.*\n",
    "\n",
    "To do that, we implemented the function \"pre-process\". This function does the following:\n",
    "* Remove whitespaces from the names of the columns (in both dataframes {normal, attack} )\n",
    "* Finds the index of the first record which is labeled as attack\n",
    "* Creates two dataframes: one with all the records until the first attack (training set) and another one with the rest of them.\n",
    "* Removes columns which have less than three different values (they do not offer useful information neither on PCA or in ARMA method).\n",
    "* Returns the two dataframes"
   ]
  },
  {
   "cell_type": "code",
   "execution_count": 103,
   "metadata": {
    "collapsed": true
   },
   "outputs": [],
   "source": [
    "def pre_process(attack_df, normal_df):\n",
    "    print(\"Pre-processing and creating training and testing sets.\")\n",
    "    # Remove the whitespaces from the column names\n",
    "    strip = lambda container: map(lambda element: element.strip(), container)\n",
    "    attack_df.columns = strip(attack_df.columns.tolist())\n",
    "    normal_df.columns = strip(normal_df.columns.tolist())\n",
    "\n",
    "    print(\"* Splitting in training and testing set\")\n",
    "    # Create training and testing data frames\n",
    "    first_attack_row_index = -1\n",
    "    for index, row in attack_df.iterrows():\n",
    "        if row['Normal/Attack'] == 1:\n",
    "            first_attack_row_index = index\n",
    "            break\n",
    "\n",
    "    df_before_attack = attack_df.iloc[:first_attack_row_index, :]\n",
    "    training_set = pd.concat([normal_df, df_before_attack])\n",
    "    testing_set = attack_df.iloc[first_attack_row_index:, :]\n",
    "\n",
    "    print(\"* Removing actuators\")\n",
    "    columns = list(training_set)\n",
    "    # For all columns except the label\n",
    "    # remove actuators: values '1', '2'\n",
    "    for column in columns[:-1]:\n",
    "        if len(training_set[column].unique()) < 3:\n",
    "            del training_set[column]\n",
    "            del testing_set[column]\n",
    "\n",
    "    print(\"\\t\\tDone.\")\n",
    "    return training_set, testing_set"
   ]
  },
  {
   "cell_type": "markdown",
   "metadata": {},
   "source": [
    "In order to check our spliting method we print the size of the two sets and the first and last record of them. As it can be seen from the results of the code below "
   ]
  },
  {
   "cell_type": "code",
   "execution_count": 104,
   "metadata": {},
   "outputs": [
    {
     "name": "stdout",
     "output_type": "stream",
     "text": [
      "Pre-processing and creating training and testing sets.\n",
      "* Splitting in training and testing set\n",
      "* Removing actuators\n",
      "\t\tDone.\n",
      "The size of the training set is: 498554\n",
      "The size of the testing set is: 448165 \n",
      "\n",
      "First record of the training set:  22/12/2015 4:00:00 PM \n",
      "Last record of the training set:  28/12/2015 10:29:13 AM \n",
      "\n",
      "First record of the testing set:  28/12/2015 10:29:14 AM \n",
      "Last record of the testing set:  2/1/2016 2:59:59 PM \n"
     ]
    }
   ],
   "source": [
    "training_set, testing_set = pre_process(attack_data, normal_data)\n",
    "print (\"The size of the training set is: %i\" %len(training_set))\n",
    "print (\"The size of the testing set is: %i \\n\" %len(testing_set))\n",
    "       \n",
    "print (\"First record of the training set: %s \" % training_set[\"Timestamp\"].iloc[0])\n",
    "print (\"Last record of the training set: %s \\n\" % training_set[\"Timestamp\"].iloc[-1])\n",
    "       \n",
    "print (\"First record of the testing set: %s \" % testing_set[\"Timestamp\"].iloc[0])\n",
    "print (\"Last record of the testing set: %s \" % testing_set[\"Timestamp\"].iloc[-1])"
   ]
  },
  {
   "cell_type": "markdown",
   "metadata": {},
   "source": [
    "# PCA Task"
   ]
  },
  {
   "cell_type": "markdown",
   "metadata": {},
   "source": [
    "# ARMA Task\n",
    "\n",
    "For the ARMA task we used both Python and R. Python was used for the pre-processing of the data while R was used \n",
    "for the training of the ARMA model and the evaluation of it.\n",
    "\n",
    "\n",
    "# Pre-processing for ARMA \n",
    "\n",
    "Before we implement ARMA we had to decide how we would use our data. Our training set had too many records which could not be used for ARMA. ARMA is not able to take into consideration a lot of past values therefore we had to consider a way to use less records. On the other hand, for PCA the large amount of records was no problem.\n",
    "\n",
    "For ARMA, our initial idea was to just use less training data. However, if we had used the last values of our training set there would not be any patterns in our data. To include some of the patterns we would have to use a large amount of records from the training set which would again resulted to bad predictions using ARMA (we actually tried that).\n",
    "\n",
    "Another idea we had was to keep data every ith record. However, this is not a good idea either due to the fact that in that way ARMA would process this data as sequential while in our test set the data would truly be sequential.\n",
    "\n",
    "The best solution we came up with is the following: we implemented a function (*get_sampled_dataset_arma*) which takes as input a number of seconds and it computes for each signal the mean value of the signal for all those seconds. For example, if we call *train_sampled, test_sampled = get_sample_dataset_arma(120)* train_sampled and test_sampled will end up having records which correspond to every two minutes of the actual records. \n",
    "\n",
    "An interesting question now is: what to do with the labels? We experimented with two approaches. On the first approach we counted the *Normal* and *Attack* labels over the time interval we had selected and we labeled our new mean record according to the higher number of labels. Nevertheless, this logic did not seem so reasonable. We realized that it would make more sense to consider a time interval as *Attack* even if there is one attack inside this interval.\n",
    "\n",
    "In that way, by changing the time interval we are able to identify if an attack exists in this specific time interval. For example, by using 2 minutes we can identify on which two minutes attacks occured.\n",
    "\n",
    "Thus, imagine that we have trained our model and now we have a test set to evaluate it. Instead of using the test set per second we use it per minute (or another time interval) by taking the mean of the values of each signal. In addition we consider the true labels as if there is an attack in those time intervals.\n",
    "\n",
    "In that way ARMA is able to identify some patterns and make predictions. By using data per second ARMA models would just return a static value.\n",
    "\n",
    "Below, we present the pre-processing function for ARMA."
   ]
  },
  {
   "cell_type": "code",
   "execution_count": 110,
   "metadata": {
    "collapsed": true
   },
   "outputs": [],
   "source": [
    "def get_sampled_dataset_arma(seconds):\n",
    "    # Get the training and testing sets\n",
    "    attack_df, normal_df = read_from_file()\n",
    "    training_set, testing_set = pre_process(attack_df, normal_df)\n",
    "\n",
    "    if seconds == 1:\n",
    "        training_set_sampled = training_set\n",
    "        testing_set_sampled = testing_set\n",
    "    else:\n",
    "        training_set_sampled = training_set.groupby(np.arange(len(training_set)) // seconds).mean()\n",
    "        training_set_sampled.ix[training_set_sampled[\"Normal/Attack\"] > 0, 'Normal/Attack'] = 1\n",
    "\n",
    "        testing_set_sampled = testing_set.groupby(np.arange(len(testing_set)) // seconds).mean()\n",
    "        testing_set_sampled.ix[testing_set_sampled[\"Normal/Attack\"] > 0, 'Normal/Attack'] = 1\n",
    "\n",
    "    return training_set_sampled, testing_set_sampled"
   ]
  },
  {
   "cell_type": "code",
   "execution_count": 112,
   "metadata": {},
   "outputs": [
    {
     "name": "stdout",
     "output_type": "stream",
     "text": [
      "Reading Attack and Normal dataset from file.\n",
      "\t\tDone.\n",
      "Pre-processing and creating training and testing sets.\n",
      "* Splitting in training and testing set\n",
      "* Removing actuators\n",
      "\t\tDone.\n",
      "554\n"
     ]
    }
   ],
   "source": [
    "# We create the training and testing set for ARMA\n",
    "training_set, testing_set = get_sampled_dataset_arma(900)"
   ]
  },
  {
   "cell_type": "markdown",
   "metadata": {},
   "source": [
    "Now that we have our training and testing set we are going to use R for the rest."
   ]
  },
  {
   "cell_type": "code",
   "execution_count": 116,
   "metadata": {},
   "outputs": [
    {
     "ename": "ImportError",
     "evalue": "No module named rpy2.ipython",
     "output_type": "error",
     "traceback": [
      "\u001b[0;31m---------------------------------------------------------------------------\u001b[0m",
      "\u001b[0;31mImportError\u001b[0m                               Traceback (most recent call last)",
      "\u001b[0;32m<ipython-input-116-691c6d73b073>\u001b[0m in \u001b[0;36m<module>\u001b[0;34m()\u001b[0m\n\u001b[0;32m----> 1\u001b[0;31m \u001b[0mget_ipython\u001b[0m\u001b[0;34m(\u001b[0m\u001b[0;34m)\u001b[0m\u001b[0;34m.\u001b[0m\u001b[0mmagic\u001b[0m\u001b[0;34m(\u001b[0m\u001b[0;34mu'load_ext rpy2.ipython'\u001b[0m\u001b[0;34m)\u001b[0m\u001b[0;34m\u001b[0m\u001b[0m\n\u001b[0m",
      "\u001b[0;32m/usr/local/lib/python2.7/dist-packages/IPython/core/interactiveshell.pyc\u001b[0m in \u001b[0;36mmagic\u001b[0;34m(self, arg_s)\u001b[0m\n\u001b[1;32m   2156\u001b[0m         \u001b[0mmagic_name\u001b[0m\u001b[0;34m,\u001b[0m \u001b[0m_\u001b[0m\u001b[0;34m,\u001b[0m \u001b[0mmagic_arg_s\u001b[0m \u001b[0;34m=\u001b[0m \u001b[0marg_s\u001b[0m\u001b[0;34m.\u001b[0m\u001b[0mpartition\u001b[0m\u001b[0;34m(\u001b[0m\u001b[0;34m' '\u001b[0m\u001b[0;34m)\u001b[0m\u001b[0;34m\u001b[0m\u001b[0m\n\u001b[1;32m   2157\u001b[0m         \u001b[0mmagic_name\u001b[0m \u001b[0;34m=\u001b[0m \u001b[0mmagic_name\u001b[0m\u001b[0;34m.\u001b[0m\u001b[0mlstrip\u001b[0m\u001b[0;34m(\u001b[0m\u001b[0mprefilter\u001b[0m\u001b[0;34m.\u001b[0m\u001b[0mESC_MAGIC\u001b[0m\u001b[0;34m)\u001b[0m\u001b[0;34m\u001b[0m\u001b[0m\n\u001b[0;32m-> 2158\u001b[0;31m         \u001b[0;32mreturn\u001b[0m \u001b[0mself\u001b[0m\u001b[0;34m.\u001b[0m\u001b[0mrun_line_magic\u001b[0m\u001b[0;34m(\u001b[0m\u001b[0mmagic_name\u001b[0m\u001b[0;34m,\u001b[0m \u001b[0mmagic_arg_s\u001b[0m\u001b[0;34m)\u001b[0m\u001b[0;34m\u001b[0m\u001b[0m\n\u001b[0m\u001b[1;32m   2159\u001b[0m \u001b[0;34m\u001b[0m\u001b[0m\n\u001b[1;32m   2160\u001b[0m     \u001b[0;31m#-------------------------------------------------------------------------\u001b[0m\u001b[0;34m\u001b[0m\u001b[0;34m\u001b[0m\u001b[0m\n",
      "\u001b[0;32m/usr/local/lib/python2.7/dist-packages/IPython/core/interactiveshell.pyc\u001b[0m in \u001b[0;36mrun_line_magic\u001b[0;34m(self, magic_name, line)\u001b[0m\n\u001b[1;32m   2077\u001b[0m                 \u001b[0mkwargs\u001b[0m\u001b[0;34m[\u001b[0m\u001b[0;34m'local_ns'\u001b[0m\u001b[0;34m]\u001b[0m \u001b[0;34m=\u001b[0m \u001b[0msys\u001b[0m\u001b[0;34m.\u001b[0m\u001b[0m_getframe\u001b[0m\u001b[0;34m(\u001b[0m\u001b[0mstack_depth\u001b[0m\u001b[0;34m)\u001b[0m\u001b[0;34m.\u001b[0m\u001b[0mf_locals\u001b[0m\u001b[0;34m\u001b[0m\u001b[0m\n\u001b[1;32m   2078\u001b[0m             \u001b[0;32mwith\u001b[0m \u001b[0mself\u001b[0m\u001b[0;34m.\u001b[0m\u001b[0mbuiltin_trap\u001b[0m\u001b[0;34m:\u001b[0m\u001b[0;34m\u001b[0m\u001b[0m\n\u001b[0;32m-> 2079\u001b[0;31m                 \u001b[0mresult\u001b[0m \u001b[0;34m=\u001b[0m \u001b[0mfn\u001b[0m\u001b[0;34m(\u001b[0m\u001b[0;34m*\u001b[0m\u001b[0margs\u001b[0m\u001b[0;34m,\u001b[0m\u001b[0;34m**\u001b[0m\u001b[0mkwargs\u001b[0m\u001b[0;34m)\u001b[0m\u001b[0;34m\u001b[0m\u001b[0m\n\u001b[0m\u001b[1;32m   2080\u001b[0m             \u001b[0;32mreturn\u001b[0m \u001b[0mresult\u001b[0m\u001b[0;34m\u001b[0m\u001b[0m\n\u001b[1;32m   2081\u001b[0m \u001b[0;34m\u001b[0m\u001b[0m\n",
      "\u001b[0;32m<decorator-gen-62>\u001b[0m in \u001b[0;36mload_ext\u001b[0;34m(self, module_str)\u001b[0m\n",
      "\u001b[0;32m/usr/local/lib/python2.7/dist-packages/IPython/core/magic.pyc\u001b[0m in \u001b[0;36m<lambda>\u001b[0;34m(f, *a, **k)\u001b[0m\n\u001b[1;32m    186\u001b[0m     \u001b[0;31m# but it's overkill for just that one bit of state.\u001b[0m\u001b[0;34m\u001b[0m\u001b[0;34m\u001b[0m\u001b[0m\n\u001b[1;32m    187\u001b[0m     \u001b[0;32mdef\u001b[0m \u001b[0mmagic_deco\u001b[0m\u001b[0;34m(\u001b[0m\u001b[0marg\u001b[0m\u001b[0;34m)\u001b[0m\u001b[0;34m:\u001b[0m\u001b[0;34m\u001b[0m\u001b[0m\n\u001b[0;32m--> 188\u001b[0;31m         \u001b[0mcall\u001b[0m \u001b[0;34m=\u001b[0m \u001b[0;32mlambda\u001b[0m \u001b[0mf\u001b[0m\u001b[0;34m,\u001b[0m \u001b[0;34m*\u001b[0m\u001b[0ma\u001b[0m\u001b[0;34m,\u001b[0m \u001b[0;34m**\u001b[0m\u001b[0mk\u001b[0m\u001b[0;34m:\u001b[0m \u001b[0mf\u001b[0m\u001b[0;34m(\u001b[0m\u001b[0;34m*\u001b[0m\u001b[0ma\u001b[0m\u001b[0;34m,\u001b[0m \u001b[0;34m**\u001b[0m\u001b[0mk\u001b[0m\u001b[0;34m)\u001b[0m\u001b[0;34m\u001b[0m\u001b[0m\n\u001b[0m\u001b[1;32m    189\u001b[0m \u001b[0;34m\u001b[0m\u001b[0m\n\u001b[1;32m    190\u001b[0m         \u001b[0;32mif\u001b[0m \u001b[0mcallable\u001b[0m\u001b[0;34m(\u001b[0m\u001b[0marg\u001b[0m\u001b[0;34m)\u001b[0m\u001b[0;34m:\u001b[0m\u001b[0;34m\u001b[0m\u001b[0m\n",
      "\u001b[0;32m/usr/local/lib/python2.7/dist-packages/IPython/core/magics/extension.pyc\u001b[0m in \u001b[0;36mload_ext\u001b[0;34m(self, module_str)\u001b[0m\n\u001b[1;32m     35\u001b[0m         \u001b[0;32mif\u001b[0m \u001b[0;32mnot\u001b[0m \u001b[0mmodule_str\u001b[0m\u001b[0;34m:\u001b[0m\u001b[0;34m\u001b[0m\u001b[0m\n\u001b[1;32m     36\u001b[0m             \u001b[0;32mraise\u001b[0m \u001b[0mUsageError\u001b[0m\u001b[0;34m(\u001b[0m\u001b[0;34m'Missing module name.'\u001b[0m\u001b[0;34m)\u001b[0m\u001b[0;34m\u001b[0m\u001b[0m\n\u001b[0;32m---> 37\u001b[0;31m         \u001b[0mres\u001b[0m \u001b[0;34m=\u001b[0m \u001b[0mself\u001b[0m\u001b[0;34m.\u001b[0m\u001b[0mshell\u001b[0m\u001b[0;34m.\u001b[0m\u001b[0mextension_manager\u001b[0m\u001b[0;34m.\u001b[0m\u001b[0mload_extension\u001b[0m\u001b[0;34m(\u001b[0m\u001b[0mmodule_str\u001b[0m\u001b[0;34m)\u001b[0m\u001b[0;34m\u001b[0m\u001b[0m\n\u001b[0m\u001b[1;32m     38\u001b[0m \u001b[0;34m\u001b[0m\u001b[0m\n\u001b[1;32m     39\u001b[0m         \u001b[0;32mif\u001b[0m \u001b[0mres\u001b[0m \u001b[0;34m==\u001b[0m \u001b[0;34m'already loaded'\u001b[0m\u001b[0;34m:\u001b[0m\u001b[0;34m\u001b[0m\u001b[0m\n",
      "\u001b[0;32m/usr/local/lib/python2.7/dist-packages/IPython/core/extensions.pyc\u001b[0m in \u001b[0;36mload_extension\u001b[0;34m(self, module_str)\u001b[0m\n\u001b[1;32m     81\u001b[0m             \u001b[0;32mif\u001b[0m \u001b[0mmodule_str\u001b[0m \u001b[0;32mnot\u001b[0m \u001b[0;32min\u001b[0m \u001b[0msys\u001b[0m\u001b[0;34m.\u001b[0m\u001b[0mmodules\u001b[0m\u001b[0;34m:\u001b[0m\u001b[0;34m\u001b[0m\u001b[0m\n\u001b[1;32m     82\u001b[0m                 \u001b[0;32mwith\u001b[0m \u001b[0mprepended_to_syspath\u001b[0m\u001b[0;34m(\u001b[0m\u001b[0mself\u001b[0m\u001b[0;34m.\u001b[0m\u001b[0mipython_extension_dir\u001b[0m\u001b[0;34m)\u001b[0m\u001b[0;34m:\u001b[0m\u001b[0;34m\u001b[0m\u001b[0m\n\u001b[0;32m---> 83\u001b[0;31m                     \u001b[0m__import__\u001b[0m\u001b[0;34m(\u001b[0m\u001b[0mmodule_str\u001b[0m\u001b[0;34m)\u001b[0m\u001b[0;34m\u001b[0m\u001b[0m\n\u001b[0m\u001b[1;32m     84\u001b[0m             \u001b[0mmod\u001b[0m \u001b[0;34m=\u001b[0m \u001b[0msys\u001b[0m\u001b[0;34m.\u001b[0m\u001b[0mmodules\u001b[0m\u001b[0;34m[\u001b[0m\u001b[0mmodule_str\u001b[0m\u001b[0;34m]\u001b[0m\u001b[0;34m\u001b[0m\u001b[0m\n\u001b[1;32m     85\u001b[0m             \u001b[0;32mif\u001b[0m \u001b[0mself\u001b[0m\u001b[0;34m.\u001b[0m\u001b[0m_call_load_ipython_extension\u001b[0m\u001b[0;34m(\u001b[0m\u001b[0mmod\u001b[0m\u001b[0;34m)\u001b[0m\u001b[0;34m:\u001b[0m\u001b[0;34m\u001b[0m\u001b[0m\n",
      "\u001b[0;31mImportError\u001b[0m: No module named rpy2.ipython"
     ]
    }
   ],
   "source": [
    "%load_ext rpy2.ipython"
   ]
  },
  {
   "cell_type": "markdown",
   "metadata": {},
   "source": [
    "# Comparison Task"
   ]
  },
  {
   "cell_type": "code",
   "execution_count": null,
   "metadata": {
    "collapsed": true
   },
   "outputs": [],
   "source": []
  }
 ],
 "metadata": {
  "kernelspec": {
   "display_name": "Python 2",
   "language": "python",
   "name": "python2"
  },
  "language_info": {
   "codemirror_mode": {
    "name": "ipython",
    "version": 2
   },
   "file_extension": ".py",
   "mimetype": "text/x-python",
   "name": "python",
   "nbconvert_exporter": "python",
   "pygments_lexer": "ipython2",
   "version": "2.7.12"
  }
 },
 "nbformat": 4,
 "nbformat_minor": 2
}
